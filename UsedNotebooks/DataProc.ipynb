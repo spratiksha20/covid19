{
 "cells": [
  {
   "cell_type": "code",
   "execution_count": 1,
   "metadata": {},
   "outputs": [],
   "source": [
    "#IMPORTS\n",
    "#For offline plotting\n",
    "from plotly.offline import plot,iplot, init_notebook_mode\n",
    "\n",
    "#Basics\n",
    "import numpy as np\n",
    "import pandas as pd\n",
    "import matplotlib.pyplot as plt\n",
    "import seaborn as sns\n",
    "from datetime import timedelta\n",
    "\n",
    "#hide warnings\n",
    "import warnings\n",
    "warnings.filterwarnings('ignore')"
   ]
  },
  {
   "cell_type": "code",
   "execution_count": 2,
   "metadata": {},
   "outputs": [],
   "source": [
    "total_data = pd.read_csv('../Data/Cleaned_Final_Global_Data.csv',parse_dates=['Date'])\n",
    "# total_data.head()\n",
    "# total_data.sample(6)\n",
    "# total_data.info()\n",
    "# Dates converted to date time object"
   ]
  },
  {
   "cell_type": "code",
   "execution_count": 3,
   "metadata": {},
   "outputs": [],
   "source": [
    "total_data['Active'] = total_data['Confirmed']-total_data['Recovered']-total_data['Deaths']"
   ]
  },
  {
   "cell_type": "code",
   "execution_count": 4,
   "metadata": {},
   "outputs": [
    {
     "name": "stdout",
     "output_type": "stream",
     "text": [
      "Province/State    0\n",
      "Country/Region    0\n",
      "Lat               0\n",
      "Long              0\n",
      "Date              0\n",
      "Confirmed         0\n",
      "Deaths            0\n",
      "Recovered         0\n",
      "Active            0\n",
      "dtype: int64\n"
     ]
    }
   ],
   "source": [
    "# total_data.isna().sum()\n",
    "#Fill missing values\n",
    "total_data['Province/State'] = total_data['Province/State'].fillna('')\n",
    "print(total_data.isna().sum())"
   ]
  },
  {
   "cell_type": "code",
   "execution_count": 5,
   "metadata": {},
   "outputs": [],
   "source": [
    "full_grouped = total_data.groupby(['Date','Country/Region'])['Confirmed','Deaths','Recovered','Active'].sum().reset_index()\n",
    "# full_grouped\n",
    "temp = full_grouped.groupby(['Country/Region','Date'])['Confirmed','Deaths','Recovered'].sum().diff().reset_index()\n",
    "# temp\n",
    "incon = (temp['Country/Region'] != temp['Country/Region'].shift(1))\n",
    "temp.loc[incon,'Confirmed'] = np.nan\n",
    "temp.loc[incon,'Deaths'] = np.nan\n",
    "temp.loc[incon,'Recovered'] = np.nan\n",
    "#This sets the values of differences of the first day to nan\n",
    "#Now set the new columns\n",
    "# temp\n",
    "temp.columns = ['Country/Region','Date','New Confirmed','New Deaths','New Recovered']\n",
    "# temp\n",
    "full_grouped = pd.merge(full_grouped,temp,on=['Country/Region','Date'])\n",
    "# print(full_grouped)\n",
    "# as visible, for the first date, all new cases are Nan. Fill with 0\n",
    "full_grouped = full_grouped.fillna(0)\n",
    "# full_grouped.info()\n",
    "#They are coming as float. Make int\n",
    "full_grouped[['New Confirmed','New Deaths','New Recovered']] = full_grouped[['New Confirmed','New Deaths','New Recovered']].astype('int')\n",
    "# If difference goes negative, we make it 0\n",
    "full_grouped['New Confirmed'] = full_grouped['New Confirmed'].apply(lambda x: 0 if x<0 else x)\n",
    "# full_grouped"
   ]
  },
  {
   "cell_type": "code",
   "execution_count": 6,
   "metadata": {},
   "outputs": [],
   "source": [
    "# Now we create new data frames for different kinds of analysis\n",
    "# DAY_WISE\n",
    "day_wise = full_grouped.groupby('Date')['Confirmed','Deaths','Recovered','New Confirmed','New Deaths','New Recovered'].sum().reset_index()\n",
    "# day_wise\n",
    "# NUM COUNTRIES\n",
    "day_wise['No. of countries'] = full_grouped[full_grouped['Confirmed']!=0].groupby('Date')['Country/Region'].unique().apply(len).values\n",
    "# day_wise\n",
    "# We see how the number of countries have increased with time\n",
    "#Number cases per 100 cases\n",
    "day_wise['Deaths / 100 Cases'] = round((day_wise['Deaths']/day_wise['Confirmed'])*100, 2)\n",
    "day_wise['Deaths / 100 Cases'] = round((day_wise['Recovered']/day_wise['Confirmed'])*100, 2)\n",
    "day_wise['Deaths / 100 Recovered'] = round((day_wise['Deaths']/day_wise['Recovered'])*100, 2)\n",
    "# day_wise\n",
    "day_wise[['Deaths / 100 Cases','Deaths / 100 Cases','Deaths / 100 Recovered']] = day_wise[['Deaths / 100 Cases','Deaths / 100 Cases','Deaths / 100 Recovered']].fillna(0)\n",
    "# day_wise.isna().sum() Perfect\n",
    "# day_wise"
   ]
  },
  {
   "cell_type": "code",
   "execution_count": 7,
   "metadata": {},
   "outputs": [],
   "source": [
    "#Country Wise\n",
    "country_wise = full_grouped[full_grouped['Date']==max(full_grouped['Date'])].reset_index(drop=True).drop('Date', axis=1)\n",
    "# country_wise"
   ]
  },
  {
   "cell_type": "code",
   "execution_count": 8,
   "metadata": {},
   "outputs": [],
   "source": [
    "country_wise = country_wise.groupby('Country/Region')['Confirmed', 'Deaths', 'Recovered', 'Active', 'New Confirmed', 'New Recovered','New Deaths'].sum().reset_index()\n",
    "# country_wise\n",
    "country_wise['Deaths / 100 Cases'] = round((country_wise['Deaths']/country_wise['Confirmed'])*100, 2)\n",
    "country_wise['Recovered / 100 Cases'] = round((country_wise['Recovered']/country_wise['Confirmed'])*100, 2)\n",
    "country_wise['Deaths / 100 Recovered'] = round((country_wise['Deaths']/country_wise['Recovered'])*100, 2)\n",
    "# country_wise\n",
    "country_wise[['Deaths / 100 Cases','Recovered / 100 Cases','Deaths / 100 Recovered']] = country_wise[['Deaths / 100 Cases','Recovered / 100 Cases','Deaths / 100 Recovered']].fillna(0)\n",
    "# country_wise.isna().sum() Perfect\n",
    "# country_wise.head()\n"
   ]
  },
  {
   "cell_type": "code",
   "execution_count": 9,
   "metadata": {},
   "outputs": [],
   "source": [
    "population = pd.read_csv('../Data/population_by_country_2020.csv')\n",
    "population = population.iloc[:,:2]\n",
    "population.columns = ['Country/Region','Population']\n",
    "# country_wise[country_wise['Country/Region']=='China']\n",
    "country_wise = pd.merge(country_wise,population,on='Country/Region',how='left')"
   ]
  },
  {
   "cell_type": "code",
   "execution_count": 10,
   "metadata": {},
   "outputs": [],
   "source": [
    "# country_wise[country_wise['Population'].isna()]\n",
    "# 15 values for which population not known. Updated from other sources.\n",
    "cols = ['Burma', 'Congo (Brazzaville)', 'Congo (Kinshasa)', \"Cote d'Ivoire\", 'Czechia', \n",
    "        'Kosovo', 'Saint Kitts and Nevis', 'Saint Vincent and the Grenadines', \n",
    "        'Taiwan*', 'US', 'West Bank and Gaza']\n",
    "pops = [54409800, 89561403, 5518087, 26378274, 10708981, 1793000, \n",
    "        53109, 110854, 23806638, 330541757, 4543126]\n",
    "for c, p in zip(cols, pops):\n",
    "    country_wise.loc[country_wise['Country/Region']== c, 'Population'] = p\n",
    "# country_wise[country_wise['Population'].isna()]\n",
    "# Not getting values for other 4 countries"
   ]
  },
  {
   "cell_type": "code",
   "execution_count": 11,
   "metadata": {},
   "outputs": [],
   "source": [
    "country_wise['Cases / Million People'] = round((country_wise['Confirmed'] / country_wise['Population']) * 1000000)\n",
    "# country_wise.head()"
   ]
  },
  {
   "cell_type": "code",
   "execution_count": 12,
   "metadata": {},
   "outputs": [],
   "source": [
    "# FInding immediate values\n",
    "today = full_grouped[full_grouped['Date']==max(full_grouped['Date'])].reset_index(drop=True).drop('Date', axis=1)[['Country/Region', 'Confirmed']]\n",
    "last_week = full_grouped[full_grouped['Date']==max(full_grouped['Date'])-timedelta(days=7)].reset_index(drop=True).drop('Date', axis=1)[['Country/Region', 'Confirmed']]\n",
    "\n",
    "temp = pd.merge(today, last_week, on='Country/Region', suffixes=(' today', ' last week'))\n",
    "# temp\n",
    "temp['1 week change'] = temp['Confirmed today'] - temp['Confirmed last week']\n",
    "# temp\n",
    "country_wise = pd.merge(country_wise, temp, on='Country/Region')\n",
    "# country_wise['1 week % increase'] = round(country_wise['1 week change']/country_wise['Confirmed last week']*100, 2)"
   ]
  },
  {
   "cell_type": "code",
   "execution_count": 13,
   "metadata": {},
   "outputs": [],
   "source": [
    "country_wise['1 week % increase'] = round(country_wise['1 week change']/country_wise['Confirmed last week']*100, 2)\n",
    "# country_wise"
   ]
  },
  {
   "cell_type": "code",
   "execution_count": 14,
   "metadata": {},
   "outputs": [],
   "source": [
    "\n",
    "# \"\"\"\n",
    "# End of preprocessing:\n",
    "# Frames to save:\n",
    "# country_wise, day_wise, total_data, full_grouped\n",
    "# \"\"\""
   ]
  },
  {
   "cell_type": "code",
   "execution_count": 15,
   "metadata": {},
   "outputs": [],
   "source": [
    "total_data.to_csv('../Data/Cleaned_Final_Global_Data.csv',index=False)\n",
    "country_wise.to_csv('../Data/Country_Wise_Data.csv',index=False)\n",
    "day_wise.to_csv('../Data/Day_Wise_Data.csv',index=False)\n",
    "full_grouped.to_csv('../Data/Full_Grouped_Data.csv',index=False)"
   ]
  }
 ],
 "metadata": {
  "kernelspec": {
   "display_name": "Python 3",
   "language": "python",
   "name": "python3"
  },
  "language_info": {
   "codemirror_mode": {
    "name": "ipython",
    "version": 3
   },
   "file_extension": ".py",
   "mimetype": "text/x-python",
   "name": "python",
   "nbconvert_exporter": "python",
   "pygments_lexer": "ipython3",
   "version": "3.7.6"
  }
 },
 "nbformat": 4,
 "nbformat_minor": 4
}
